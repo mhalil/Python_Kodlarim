{
 "cells": [
  {
   "cell_type": "markdown",
   "id": "b9263572",
   "metadata": {},
   "source": [
    "# AÇIKLAMA;\n",
    "String ifade içinde rakamla başlayan heceleri, sona taşıyan fonksiyon. \n",
    "Örneğin '65 Van'ın Plakası' string ifadesi 'Van'ın Plakası 65' olarak değiştirilir."
   ]
  },
  {
   "cell_type": "code",
   "execution_count": 1,
   "id": "2c35e8b6",
   "metadata": {},
   "outputs": [
    {
     "data": {
      "text/html": [
       "<div>\n",
       "<style scoped>\n",
       "    .dataframe tbody tr th:only-of-type {\n",
       "        vertical-align: middle;\n",
       "    }\n",
       "\n",
       "    .dataframe tbody tr th {\n",
       "        vertical-align: top;\n",
       "    }\n",
       "\n",
       "    .dataframe thead th {\n",
       "        text-align: right;\n",
       "    }\n",
       "</style>\n",
       "<table border=\"1\" class=\"dataframe\">\n",
       "  <thead>\n",
       "    <tr style=\"text-align: right;\">\n",
       "      <th></th>\n",
       "      <th>kategori</th>\n",
       "      <th>model</th>\n",
       "    </tr>\n",
       "  </thead>\n",
       "  <tbody>\n",
       "    <tr>\n",
       "      <th>0</th>\n",
       "      <td>telefon</td>\n",
       "      <td>14_pro_max iphone</td>\n",
       "    </tr>\n",
       "    <tr>\n",
       "      <th>1</th>\n",
       "      <td>bilgisayar</td>\n",
       "      <td>15S-FQ2028NTI 2N2M9EA Hewlett Packard</td>\n",
       "    </tr>\n",
       "    <tr>\n",
       "      <th>2</th>\n",
       "      <td>telefon</td>\n",
       "      <td>12-Pro Xiaomi Redmi Note</td>\n",
       "    </tr>\n",
       "    <tr>\n",
       "      <th>3</th>\n",
       "      <td>telefon</td>\n",
       "      <td>Samsung Galaxy S22</td>\n",
       "    </tr>\n",
       "    <tr>\n",
       "      <th>4</th>\n",
       "      <td>bilgisayar</td>\n",
       "      <td>13VI-069TR MSI TITAN GT77HX</td>\n",
       "    </tr>\n",
       "    <tr>\n",
       "      <th>5</th>\n",
       "      <td>telefon</td>\n",
       "      <td>13 iphone</td>\n",
       "    </tr>\n",
       "    <tr>\n",
       "      <th>6</th>\n",
       "      <td>telefon</td>\n",
       "      <td>12T-Pro Xiaomi</td>\n",
       "    </tr>\n",
       "    <tr>\n",
       "      <th>7</th>\n",
       "      <td>bilgisayar</td>\n",
       "      <td>Apple Macbook Air MGN93TU-A M1</td>\n",
       "    </tr>\n",
       "    <tr>\n",
       "      <th>8</th>\n",
       "      <td>bilgisayar</td>\n",
       "      <td>5530 Dell Gaming G15 G155530013WH</td>\n",
       "    </tr>\n",
       "    <tr>\n",
       "      <th>9</th>\n",
       "      <td>bilgisayar</td>\n",
       "      <td>Asus TUF Gaming F15 FX506HE-HN011</td>\n",
       "    </tr>\n",
       "  </tbody>\n",
       "</table>\n",
       "</div>"
      ],
      "text/plain": [
       "     kategori                                  model\n",
       "0     telefon                      14_pro_max iphone\n",
       "1  bilgisayar  15S-FQ2028NTI 2N2M9EA Hewlett Packard\n",
       "2     telefon               12-Pro Xiaomi Redmi Note\n",
       "3     telefon                     Samsung Galaxy S22\n",
       "4  bilgisayar            13VI-069TR MSI TITAN GT77HX\n",
       "5     telefon                              13 iphone\n",
       "6     telefon                         12T-Pro Xiaomi\n",
       "7  bilgisayar         Apple Macbook Air MGN93TU-A M1\n",
       "8  bilgisayar      5530 Dell Gaming G15 G155530013WH\n",
       "9  bilgisayar      Asus TUF Gaming F15 FX506HE-HN011"
      ]
     },
     "execution_count": 1,
     "metadata": {},
     "output_type": "execute_result"
    }
   ],
   "source": [
    "import pandas as pd\n",
    "\n",
    "df = pd.DataFrame({\"kategori\" : [\"telefon\", \"bilgisayar\", \"telefon\", \"telefon\", \"bilgisayar\", \"telefon\", \"telefon\", \"bilgisayar\", \"bilgisayar\",\"bilgisayar\"],\n",
    "                    \"model\" : [\"14_pro_max iphone\" , \"15S-FQ2028NTI 2N2M9EA Hewlett Packard\", \"12-Pro Xiaomi Redmi Note\", \"Samsung Galaxy S22\", \"13VI-069TR MSI TITAN GT77HX\", \"13 iphone\", \"12T-Pro Xiaomi\", \"Apple Macbook Air MGN93TU-A M1\", \"5530 Dell Gaming G15 G155530013WH\", \"Asus TUF Gaming F15 FX506HE-HN011\"]\n",
    "                    })\n",
    "\n",
    "df.head(10)"
   ]
  },
  {
   "cell_type": "markdown",
   "id": "73387912",
   "metadata": {},
   "source": [
    "## Fonksiyonu tanımlıyoruz;"
   ]
  },
  {
   "cell_type": "code",
   "execution_count": 2,
   "id": "97999a01",
   "metadata": {},
   "outputs": [],
   "source": [
    "def duzelt(cumle:str):    # String ifade içindeki rakamla başlayan kelimeleri, cümlenin sonuna taşıyan fonksiyon.\n",
    "    gecici_metin = []    # String ifade içinde bulunan metinlerin depolanacağı gecici liste.\n",
    "    gecici_rakam = []    # String ifade içinde bulunan rakamların depolanacağı gecici liste.\n",
    "    rakam = \"0123456789\"    # hecelerin rakamla başlayıp başlamadığının kontrolü için kullanılan değişken. \n",
    "\n",
    "    kelimeler = cumle.split(\" \") # String ifadeyi \" \" boşluk karakterine göre ayırıyoruz.\n",
    "\n",
    "    for kelime in kelimeler:\n",
    "        if kelime[0] in rakam:\n",
    "            gecici_rakam.append(kelime)\n",
    "        else:\n",
    "             gecici_metin.append(kelime)\n",
    "    \n",
    "    yeni_cumle_listesi = gecici_metin + gecici_rakam    # \"gecici_metin\" ve \"gecici_rakam\" listeleribi birleştiriyoruz.\n",
    "    yeni_cumle = \" \".join(yeni_cumle_listesi).upper()   # \"yeni_cumle_listesi\" listesinde bulunan öğeleri birleştirip tüm harfleri büyük harfe çeviriyoruz\n",
    "\n",
    "    return yeni_cumle.strip()    # strip() metodu ile String ifadenin başında ve sonunda bulunan boşlukları temizliyoruz."
   ]
  },
  {
   "cell_type": "markdown",
   "id": "651ec43a",
   "metadata": {},
   "source": [
    "## Fonksiyonu, DataFrame üzerinde uyguluyoruz;"
   ]
  },
  {
   "cell_type": "code",
   "execution_count": 3,
   "id": "bc55c8c8",
   "metadata": {},
   "outputs": [
    {
     "name": "stdout",
     "output_type": "stream",
     "text": [
      "     kategori                                  model  \\\n",
      "0     telefon                      14_pro_max iphone   \n",
      "1  bilgisayar  15S-FQ2028NTI 2N2M9EA Hewlett Packard   \n",
      "2     telefon               12-Pro Xiaomi Redmi Note   \n",
      "3     telefon                     Samsung Galaxy S22   \n",
      "4  bilgisayar            13VI-069TR MSI TITAN GT77HX   \n",
      "5     telefon                              13 iphone   \n",
      "6     telefon                         12T-Pro Xiaomi   \n",
      "7  bilgisayar         Apple Macbook Air MGN93TU-A M1   \n",
      "8  bilgisayar      5530 Dell Gaming G15 G155530013WH   \n",
      "9  bilgisayar      Asus TUF Gaming F15 FX506HE-HN011   \n",
      "\n",
      "                           model_duzenli  \n",
      "0                      IPHONE 14_PRO_MAX  \n",
      "1  HEWLETT PACKARD 15S-FQ2028NTI 2N2M9EA  \n",
      "2               XIAOMI REDMI NOTE 12-PRO  \n",
      "3                     SAMSUNG GALAXY S22  \n",
      "4            MSI TITAN GT77HX 13VI-069TR  \n",
      "5                              IPHONE 13  \n",
      "6                         XIAOMI 12T-PRO  \n",
      "7         APPLE MACBOOK AIR MGN93TU-A M1  \n",
      "8      DELL GAMING G15 G155530013WH 5530  \n",
      "9      ASUS TUF GAMING F15 FX506HE-HN011  \n"
     ]
    }
   ],
   "source": [
    "df[\"model_duzenli\"] = df[\"model\"].apply(duzelt)\n",
    "print(df.head(10))"
   ]
  },
  {
   "cell_type": "code",
   "execution_count": null,
   "id": "e7526101",
   "metadata": {},
   "outputs": [],
   "source": []
  }
 ],
 "metadata": {
  "interpreter": {
   "hash": "916dbcbb3f70747c44a77c7bcd40155683ae19c65e1c03b4aa3499c5328201f1"
  },
  "kernelspec": {
   "display_name": "Python 3.10.12 64-bit",
   "language": "python",
   "name": "python3"
  },
  "language_info": {
   "codemirror_mode": {
    "name": "ipython",
    "version": 3
   },
   "file_extension": ".py",
   "mimetype": "text/x-python",
   "name": "python",
   "nbconvert_exporter": "python",
   "pygments_lexer": "ipython3",
   "version": "3.10.12"
  }
 },
 "nbformat": 4,
 "nbformat_minor": 5
}
